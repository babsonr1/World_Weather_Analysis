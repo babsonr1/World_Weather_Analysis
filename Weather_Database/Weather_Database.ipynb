{
 "cells": [
  {
   "cell_type": "code",
   "execution_count": 8,
   "id": "2c2d9fa6",
   "metadata": {},
   "outputs": [],
   "source": [
    "import numpy as np\n",
    "import pandas as pd\n",
    "import requests as rq\n",
    "from citipy import citipy\n",
    "from config import weather_api_key\n",
    "from datetime import datetime"
   ]
  },
  {
   "cell_type": "code",
   "execution_count": 2,
   "id": "d8d4b5e9",
   "metadata": {},
   "outputs": [],
   "source": [
    "lats = np.random.uniform(low=-90.000, high=90.000, size = 2000)\n",
    "longs = np.random.uniform(low=-180.000, high=180.000, size = 2000)\n",
    "latlongs = zip(lats, longs)\n",
    "coordinates = list(latlongs)"
   ]
  },
  {
   "cell_type": "code",
   "execution_count": 3,
   "id": "e04b9d36",
   "metadata": {},
   "outputs": [],
   "source": [
    "cities = []\n",
    "for coordinate in coordinates:\n",
    "    city = citipy.nearest_city(coordinate[0], coordinate[1]).city_name\n",
    "\n",
    "    if city not in cities:\n",
    "        cities.append(city)"
   ]
  },
  {
   "cell_type": "code",
   "execution_count": 4,
   "id": "748e0039",
   "metadata": {},
   "outputs": [],
   "source": [
    "cityData = []\n",
    "\n",
    "recordCount = 1\n",
    "setCount = 1"
   ]
  },
  {
   "cell_type": "code",
   "execution_count": 5,
   "id": "986ec6d0",
   "metadata": {},
   "outputs": [
    {
     "name": "stdout",
     "output_type": "stream",
     "text": [
      "-----------------------------\n",
      "Data Retrieval Complete      \n",
      "-----------------------------\n"
     ]
    }
   ],
   "source": [
    "url = \"http://api.openweathermap.org/data/2.5/weather?units=Imperial&appid=\" + weather_api_key\n",
    "for i, city in enumerate(cities):\n",
    "    if (i % 50 == 0 and i >= 50):\n",
    "        setCount += 1\n",
    "        recordCount = 1\n",
    "    cityurl = url + \"&q=\" + city.replace(\" \",\"+\")\n",
    "    recordCount += 1\n",
    "    try:\n",
    "        # Parse the JSON and retrieve data.\n",
    "        cityWeather = rq.get(cityurl).json()\n",
    "\n",
    "        # Parse out the needed data.\n",
    "        cityLat = cityWeather[\"coord\"][\"lat\"]\n",
    "        cityLong = cityWeather[\"coord\"][\"lon\"]\n",
    "        cityMaxTemp = cityWeather[\"main\"][\"temp_max\"]\n",
    "        cityHumidity = cityWeather[\"main\"][\"humidity\"]\n",
    "        cityClouds = cityWeather[\"clouds\"][\"all\"]\n",
    "        cityWind = cityWeather[\"wind\"][\"speed\"]\n",
    "        cityCountry = cityWeather[\"sys\"][\"country\"]\n",
    "        cityDesc = cityWeather[\"weather\"][0][\"description\"]\n",
    "        cityData.append({\"City\": city.title(),\n",
    "                          \"Lat\": cityLat,\n",
    "                          \"Lng\": cityLong,\n",
    "                          \"Max Temp\": cityMaxTemp,\n",
    "                          \"Humidity\": cityHumidity,\n",
    "                          \"Cloudiness\": cityClouds,\n",
    "                          \"Wind Speed\": cityWind,\n",
    "                          \"Country\": cityCountry,\n",
    "                          \"Current Description\": cityDesc})\n",
    "\n",
    "    # If an error is experienced, skip the city.\n",
    "    except:\n",
    "        pass\n",
    "\n",
    "# Indicate that Data Loading is complete.\n",
    "print(\"-----------------------------\")\n",
    "print(\"Data Retrieval Complete      \")\n",
    "print(\"-----------------------------\")"
   ]
  },
  {
   "cell_type": "code",
   "execution_count": 9,
   "id": "beb3953a",
   "metadata": {},
   "outputs": [
    {
     "data": {
      "text/html": [
       "<div>\n",
       "<style scoped>\n",
       "    .dataframe tbody tr th:only-of-type {\n",
       "        vertical-align: middle;\n",
       "    }\n",
       "\n",
       "    .dataframe tbody tr th {\n",
       "        vertical-align: top;\n",
       "    }\n",
       "\n",
       "    .dataframe thead th {\n",
       "        text-align: right;\n",
       "    }\n",
       "</style>\n",
       "<table border=\"1\" class=\"dataframe\">\n",
       "  <thead>\n",
       "    <tr style=\"text-align: right;\">\n",
       "      <th></th>\n",
       "      <th>City</th>\n",
       "      <th>Country</th>\n",
       "      <th>Lat</th>\n",
       "      <th>Lng</th>\n",
       "      <th>Max Temp</th>\n",
       "      <th>Humidity</th>\n",
       "      <th>Cloudiness</th>\n",
       "      <th>Wind Speed</th>\n",
       "      <th>Current Description</th>\n",
       "    </tr>\n",
       "  </thead>\n",
       "  <tbody>\n",
       "    <tr>\n",
       "      <th>0</th>\n",
       "      <td>Haines Junction</td>\n",
       "      <td>CA</td>\n",
       "      <td>60.7522</td>\n",
       "      <td>-137.5108</td>\n",
       "      <td>31.95</td>\n",
       "      <td>55</td>\n",
       "      <td>100</td>\n",
       "      <td>0.00</td>\n",
       "      <td>overcast clouds</td>\n",
       "    </tr>\n",
       "    <tr>\n",
       "      <th>1</th>\n",
       "      <td>Descalvado</td>\n",
       "      <td>BR</td>\n",
       "      <td>-21.9039</td>\n",
       "      <td>-47.6194</td>\n",
       "      <td>65.28</td>\n",
       "      <td>91</td>\n",
       "      <td>97</td>\n",
       "      <td>8.14</td>\n",
       "      <td>overcast clouds</td>\n",
       "    </tr>\n",
       "    <tr>\n",
       "      <th>2</th>\n",
       "      <td>Namatanai</td>\n",
       "      <td>PG</td>\n",
       "      <td>-3.6667</td>\n",
       "      <td>152.4333</td>\n",
       "      <td>86.45</td>\n",
       "      <td>62</td>\n",
       "      <td>49</td>\n",
       "      <td>6.55</td>\n",
       "      <td>scattered clouds</td>\n",
       "    </tr>\n",
       "    <tr>\n",
       "      <th>3</th>\n",
       "      <td>Dikson</td>\n",
       "      <td>RU</td>\n",
       "      <td>73.5069</td>\n",
       "      <td>80.5464</td>\n",
       "      <td>27.84</td>\n",
       "      <td>94</td>\n",
       "      <td>100</td>\n",
       "      <td>25.88</td>\n",
       "      <td>light snow</td>\n",
       "    </tr>\n",
       "    <tr>\n",
       "      <th>4</th>\n",
       "      <td>Lebu</td>\n",
       "      <td>CL</td>\n",
       "      <td>-37.6167</td>\n",
       "      <td>-73.6500</td>\n",
       "      <td>52.12</td>\n",
       "      <td>87</td>\n",
       "      <td>0</td>\n",
       "      <td>16.64</td>\n",
       "      <td>clear sky</td>\n",
       "    </tr>\n",
       "  </tbody>\n",
       "</table>\n",
       "</div>"
      ],
      "text/plain": [
       "              City Country      Lat       Lng  Max Temp  Humidity  Cloudiness  \\\n",
       "0  Haines Junction      CA  60.7522 -137.5108     31.95        55         100   \n",
       "1       Descalvado      BR -21.9039  -47.6194     65.28        91          97   \n",
       "2        Namatanai      PG  -3.6667  152.4333     86.45        62          49   \n",
       "3           Dikson      RU  73.5069   80.5464     27.84        94         100   \n",
       "4             Lebu      CL -37.6167  -73.6500     52.12        87           0   \n",
       "\n",
       "   Wind Speed Current Description  \n",
       "0        0.00     overcast clouds  \n",
       "1        8.14     overcast clouds  \n",
       "2        6.55    scattered clouds  \n",
       "3       25.88          light snow  \n",
       "4       16.64           clear sky  "
      ]
     },
     "execution_count": 9,
     "metadata": {},
     "output_type": "execute_result"
    }
   ],
   "source": [
    "cityDatadf = pd.DataFrame(cityData)\n",
    "cityDatadf = cityDatadf[[\"City\",\"Country\",\"Lat\",\"Lng\", \"Max Temp\", \n",
    "                         \"Humidity\", \"Cloudiness\", \"Wind Speed\", \"Current Description\"]]\n",
    "cityDatadf.head()"
   ]
  },
  {
   "cell_type": "code",
   "execution_count": 10,
   "id": "9137e7ac",
   "metadata": {},
   "outputs": [],
   "source": [
    "outputDataFile = \"WeatherPy_Database.csv\"\n",
    "cityDatadf.to_csv(outputDataFile, index_label=\"City_ID\")"
   ]
  }
 ],
 "metadata": {
  "kernelspec": {
   "display_name": "PythonData",
   "language": "python",
   "name": "pythondata"
  },
  "language_info": {
   "codemirror_mode": {
    "name": "ipython",
    "version": 3
   },
   "file_extension": ".py",
   "mimetype": "text/x-python",
   "name": "python",
   "nbconvert_exporter": "python",
   "pygments_lexer": "ipython3",
   "version": "3.8.8"
  }
 },
 "nbformat": 4,
 "nbformat_minor": 5
}
